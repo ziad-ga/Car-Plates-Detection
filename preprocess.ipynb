{
 "cells": [
  {
   "cell_type": "code",
   "execution_count": 1,
   "id": "c736bb05",
   "metadata": {
    "execution": {
     "iopub.execute_input": "2022-12-23T13:36:52.006904Z",
     "iopub.status.busy": "2022-12-23T13:36:52.006263Z",
     "iopub.status.idle": "2022-12-23T13:36:52.254419Z",
     "shell.execute_reply": "2022-12-23T13:36:52.252856Z"
    },
    "papermill": {
     "duration": 0.257377,
     "end_time": "2022-12-23T13:36:52.257386",
     "exception": false,
     "start_time": "2022-12-23T13:36:52.000009",
     "status": "completed"
    },
    "tags": []
   },
   "outputs": [],
   "source": [
    "import pandas as pd\n",
    "import matplotlib.pyplot as plt\n",
    "import cv2\n",
    "import glob\n",
    "import os"
   ]
  },
  {
   "cell_type": "code",
   "execution_count": 2,
   "id": "3ce7ab3c",
   "metadata": {
    "execution": {
     "iopub.execute_input": "2022-12-23T13:36:52.265828Z",
     "iopub.status.busy": "2022-12-23T13:36:52.265336Z",
     "iopub.status.idle": "2022-12-23T13:36:52.538401Z",
     "shell.execute_reply": "2022-12-23T13:36:52.537071Z"
    },
    "papermill": {
     "duration": 0.280429,
     "end_time": "2022-12-23T13:36:52.541257",
     "exception": false,
     "start_time": "2022-12-23T13:36:52.260828",
     "status": "completed"
    },
    "tags": []
   },
   "outputs": [],
   "source": [
    "# Fix image names\n",
    "for name in glob.glob(\"./Pics/*\"):\n",
    "    if '.JPG' in name:\n",
    "        os.rename(name,name.replace('JPG','jpg'))\n"
   ]
  },
  {
   "cell_type": "code",
   "execution_count": 3,
   "id": "a4275402",
   "metadata": {
    "execution": {
     "iopub.execute_input": "2022-12-23T13:36:52.549557Z",
     "iopub.status.busy": "2022-12-23T13:36:52.548547Z",
     "iopub.status.idle": "2022-12-23T13:36:52.587581Z",
     "shell.execute_reply": "2022-12-23T13:36:52.586597Z"
    },
    "papermill": {
     "duration": 0.045376,
     "end_time": "2022-12-23T13:36:52.589847",
     "exception": false,
     "start_time": "2022-12-23T13:36:52.544471",
     "status": "completed"
    },
    "tags": []
   },
   "outputs": [
    {
     "data": {
      "text/html": [
       "<div>\n",
       "<style scoped>\n",
       "    .dataframe tbody tr th:only-of-type {\n",
       "        vertical-align: middle;\n",
       "    }\n",
       "\n",
       "    .dataframe tbody tr th {\n",
       "        vertical-align: top;\n",
       "    }\n",
       "\n",
       "    .dataframe thead th {\n",
       "        text-align: right;\n",
       "    }\n",
       "</style>\n",
       "<table border=\"1\" class=\"dataframe\">\n",
       "  <thead>\n",
       "    <tr style=\"text-align: right;\">\n",
       "      <th></th>\n",
       "      <th>img.name</th>\n",
       "      <th>label</th>\n",
       "    </tr>\n",
       "  </thead>\n",
       "  <tbody>\n",
       "    <tr>\n",
       "      <th>0</th>\n",
       "      <td>car001.jpg</td>\n",
       "      <td>ر ب ل ١ ٨ ٢ ٧</td>\n",
       "    </tr>\n",
       "    <tr>\n",
       "      <th>1</th>\n",
       "      <td>car002.jpg</td>\n",
       "      <td>ى ن ر ٤ ٦ ٢ ٥</td>\n",
       "    </tr>\n",
       "    <tr>\n",
       "      <th>2</th>\n",
       "      <td>car003.jpg</td>\n",
       "      <td>ع س ط ١ ٣ ٧ ٥</td>\n",
       "    </tr>\n",
       "    <tr>\n",
       "      <th>3</th>\n",
       "      <td>car004.jpg</td>\n",
       "      <td>أ ج س ٤ ١ ٤ ٧</td>\n",
       "    </tr>\n",
       "    <tr>\n",
       "      <th>4</th>\n",
       "      <td>car005.jpg</td>\n",
       "      <td>ق ج ل ٢ ٧ ٣ ٩</td>\n",
       "    </tr>\n",
       "  </tbody>\n",
       "</table>\n",
       "</div>"
      ],
      "text/plain": [
       "     img.name           label\n",
       "0  car001.jpg   ر ب ل ١ ٨ ٢ ٧\n",
       "1  car002.jpg  ى ن ر ٤ ٦ ٢ ٥ \n",
       "2  car003.jpg  ع س ط ١ ٣ ٧ ٥ \n",
       "3  car004.jpg   أ ج س ٤ ١ ٤ ٧\n",
       "4  car005.jpg   ق ج ل ٢ ٧ ٣ ٩"
      ]
     },
     "execution_count": 3,
     "metadata": {},
     "output_type": "execute_result"
    }
   ],
   "source": [
    "# Read and inspect labels\n",
    "df = pd.read_csv('/kaggle/input/poollabels/PoolLabels.csv')\n",
    "df.head()"
   ]
  },
  {
   "cell_type": "code",
   "execution_count": 4,
   "id": "db308948",
   "metadata": {
    "execution": {
     "iopub.execute_input": "2022-12-23T13:36:52.598802Z",
     "iopub.status.busy": "2022-12-23T13:36:52.597779Z",
     "iopub.status.idle": "2022-12-23T13:36:52.605431Z",
     "shell.execute_reply": "2022-12-23T13:36:52.604287Z"
    },
    "papermill": {
     "duration": 0.014571,
     "end_time": "2022-12-23T13:36:52.607890",
     "exception": false,
     "start_time": "2022-12-23T13:36:52.593319",
     "status": "completed"
    },
    "tags": []
   },
   "outputs": [],
   "source": [
    "# remove spaces and fill blank character slots with '+'\n",
    "def formatLabels(labels):\n",
    "    count = 0\n",
    "    labels = labels.apply(lambda x: x.replace(' ',''))\n",
    "    labels = labels.apply(lambda x: x + \"+\"*(7-len(x)))\n",
    "    labels = labels.apply(lambda x: list(x))        \n",
    "    return labels\n",
    "\n",
    "# Fix image names \n",
    "def checkName(name):\n",
    "    if 'JPG' in name:\n",
    "        return name.replace('JPG','jpg')\n",
    "    elif '.jpg' not in name:\n",
    "        return name + '.jpg'\n",
    "    else:\n",
    "        return name"
   ]
  },
  {
   "cell_type": "code",
   "execution_count": 5,
   "id": "e48e746a",
   "metadata": {
    "execution": {
     "iopub.execute_input": "2022-12-23T13:36:52.616102Z",
     "iopub.status.busy": "2022-12-23T13:36:52.615726Z",
     "iopub.status.idle": "2022-12-23T13:36:52.625795Z",
     "shell.execute_reply": "2022-12-23T13:36:52.624883Z"
    },
    "papermill": {
     "duration": 0.016667,
     "end_time": "2022-12-23T13:36:52.627843",
     "exception": false,
     "start_time": "2022-12-23T13:36:52.611176",
     "status": "completed"
    },
    "tags": []
   },
   "outputs": [],
   "source": [
    "df['img.name'] = df['img.name'].apply(checkName)"
   ]
  },
  {
   "cell_type": "code",
   "execution_count": 6,
   "id": "806d2550",
   "metadata": {
    "execution": {
     "iopub.execute_input": "2022-12-23T13:36:52.635728Z",
     "iopub.status.busy": "2022-12-23T13:36:52.635341Z",
     "iopub.status.idle": "2022-12-23T13:37:18.205605Z",
     "shell.execute_reply": "2022-12-23T13:37:18.204459Z"
    },
    "papermill": {
     "duration": 25.57762,
     "end_time": "2022-12-23T13:37:18.208746",
     "exception": false,
     "start_time": "2022-12-23T13:36:52.631126",
     "status": "completed"
    },
    "tags": []
   },
   "outputs": [],
   "source": [
    "# Read the images, convert to grayscale, and resize 64x128\n",
    "temp = [cv2.imread(f'/kaggle/input/car-plates/Pics/{file}') for file in df['img.name']]\n",
    "temp = [cv2.cvtColor(img, cv2.COLOR_BGR2GRAY) for img in temp]\n",
    "temp = [cv2.resize(img,(128,64)) for img in temp]"
   ]
  },
  {
   "cell_type": "code",
   "execution_count": 7,
   "id": "e83e08ff",
   "metadata": {
    "execution": {
     "iopub.execute_input": "2022-12-23T13:37:18.217421Z",
     "iopub.status.busy": "2022-12-23T13:37:18.216994Z",
     "iopub.status.idle": "2022-12-23T13:37:18.233412Z",
     "shell.execute_reply": "2022-12-23T13:37:18.232145Z"
    },
    "papermill": {
     "duration": 0.023519,
     "end_time": "2022-12-23T13:37:18.235838",
     "exception": false,
     "start_time": "2022-12-23T13:37:18.212319",
     "status": "completed"
    },
    "tags": []
   },
   "outputs": [],
   "source": [
    "# Replace the image names with the actual images in the dataframe\n",
    "df['img.name'] = temp\n",
    "df['label'] = formatLabels(df.label)\n",
    "df.rename(columns={'img.name':'image'},inplace=True)"
   ]
  },
  {
   "cell_type": "code",
   "execution_count": 8,
   "id": "d57f0ef1",
   "metadata": {
    "execution": {
     "iopub.execute_input": "2022-12-23T13:37:18.244309Z",
     "iopub.status.busy": "2022-12-23T13:37:18.243896Z",
     "iopub.status.idle": "2022-12-23T13:37:18.288904Z",
     "shell.execute_reply": "2022-12-23T13:37:18.287325Z"
    },
    "papermill": {
     "duration": 0.052658,
     "end_time": "2022-12-23T13:37:18.291977",
     "exception": false,
     "start_time": "2022-12-23T13:37:18.239319",
     "status": "completed"
    },
    "tags": []
   },
   "outputs": [],
   "source": [
    "# Export the data\n",
    "df.to_pickle('preprocessed_data.pkl')"
   ]
  },
  {
   "cell_type": "code",
   "execution_count": null,
   "id": "045701e7",
   "metadata": {
    "papermill": {
     "duration": 0.003017,
     "end_time": "2022-12-23T13:37:18.298524",
     "exception": false,
     "start_time": "2022-12-23T13:37:18.295507",
     "status": "completed"
    },
    "tags": []
   },
   "outputs": [],
   "source": []
  }
 ],
 "metadata": {
  "kernelspec": {
   "display_name": "Python 3",
   "language": "python",
   "name": "python3"
  },
  "language_info": {
   "codemirror_mode": {
    "name": "ipython",
    "version": 3
   },
   "file_extension": ".py",
   "mimetype": "text/x-python",
   "name": "python",
   "nbconvert_exporter": "python",
   "pygments_lexer": "ipython3",
   "version": "3.7.12"
  },
  "papermill": {
   "default_parameters": {},
   "duration": 37.685099,
   "end_time": "2022-12-23T13:37:19.023668",
   "environment_variables": {},
   "exception": null,
   "input_path": "__notebook__.ipynb",
   "output_path": "__notebook__.ipynb",
   "parameters": {},
   "start_time": "2022-12-23T13:36:41.338569",
   "version": "2.3.4"
  }
 },
 "nbformat": 4,
 "nbformat_minor": 5
}
